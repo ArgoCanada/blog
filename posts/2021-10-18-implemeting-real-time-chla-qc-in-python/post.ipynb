{
 "cells": [
  {
   "cell_type": "markdown",
   "metadata": {},
   "source": [
    "This post is a rough guide to implementing real-time adjustments to CHLA values in Argo NetCDF files. The real-time adjustments are relatively new and reflect a balance between simplicity and completeness, with the understanding that delayed-mode QC will be more robust and incorporate more float-specific considerations. In case it's not clear, nothing in this post should be construed as a definitive QC implementation and should be subject to considerable testing prior to deployment as actual live QC.\n",
    "\n",
    "To implement the tests on existing ArgoNetCDF files in Python, we'll use the [argopandas](https://github.com/ArgoCanada/argopandas) package (to list float profiles and do some basic interaction with Argo NetCDF files) and [gsw](https://teos-10.github.io/GSW-Python/) (to perform seawater calculations required for some of the checks). We'll also use [pandas](https://pandas.pydata.org/) data frames and [numpy](https://numpy.org/) arrays to marshal the generic data handling and [matplotlib](https://matplotlib.org/) to plot as we go along."
   ]
  },
  {
   "cell_type": "code",
   "execution_count": 1,
   "metadata": {},
   "outputs": [],
   "source": [
    "# pip install argopandas gsw matplotlib\n",
    "# conda install -c conda-forge argopandas gsw matplotlib\n",
    "import argopandas as argo\n",
    "import gsw\n",
    "import numpy as np\n",
    "import matplotlib.pyplot as plt"
   ]
  },
  {
   "cell_type": "markdown",
   "metadata": {},
   "source": [
    "### Example data\n",
    "\n",
    "We'll need some data to practice with, too. As an example, I'll use all the profiles from float 6904117. It's probably best to use a fresh cache for every Python session (the default), but for the purposes of rendering this post I'll use a local cache to avoid downloading the files everytime I render it."
   ]
  },
  {
   "cell_type": "code",
   "execution_count": 2,
   "metadata": {},
   "outputs": [
    {
     "name": "stderr",
     "output_type": "stream",
     "text": [
      "Downloading 'https://data-argo.ifremer.fr/ar_index_global_prof.txt.gz'\n",
      "Downloading 'https://data-argo.ifremer.fr/argo_bio-profile_index.txt.gz'\n"
     ]
    }
   ],
   "source": [
    "profiles = argo.prof \\\n",
    "    .subset_float(6904117) \\\n",
    "    .subset_direction('ascending') \n",
    "bgc_profiles = argo.bio_prof \\\n",
    "    .subset_float(6904117) \\\n",
    "    .subset_direction('ascending')"
   ]
  },
  {
   "cell_type": "code",
   "execution_count": 3,
   "metadata": {},
   "outputs": [
    {
     "data": {
      "text/html": [
       "<div>\n",
       "<style scoped>\n",
       "    .dataframe tbody tr th:only-of-type {\n",
       "        vertical-align: middle;\n",
       "    }\n",
       "\n",
       "    .dataframe tbody tr th {\n",
       "        vertical-align: top;\n",
       "    }\n",
       "\n",
       "    .dataframe thead th {\n",
       "        text-align: right;\n",
       "    }\n",
       "</style>\n",
       "<table border=\"1\" class=\"dataframe\">\n",
       "  <thead>\n",
       "    <tr style=\"text-align: right;\">\n",
       "      <th></th>\n",
       "      <th>file</th>\n",
       "      <th>date</th>\n",
       "      <th>latitude</th>\n",
       "      <th>longitude</th>\n",
       "      <th>ocean</th>\n",
       "      <th>profiler_type</th>\n",
       "      <th>institution</th>\n",
       "      <th>date_update</th>\n",
       "    </tr>\n",
       "  </thead>\n",
       "  <tbody>\n",
       "    <tr>\n",
       "      <th>1826644</th>\n",
       "      <td>coriolis/6904117/profiles/R6904117_001.nc</td>\n",
       "      <td>2021-02-03 12:42:43+00:00</td>\n",
       "      <td>57.295</td>\n",
       "      <td>19.963</td>\n",
       "      <td>A</td>\n",
       "      <td>834</td>\n",
       "      <td>IF</td>\n",
       "      <td>2021-09-14 15:09:29+00:00</td>\n",
       "    </tr>\n",
       "    <tr>\n",
       "      <th>1826646</th>\n",
       "      <td>coriolis/6904117/profiles/R6904117_002.nc</td>\n",
       "      <td>2021-02-05 00:55:14+00:00</td>\n",
       "      <td>57.251</td>\n",
       "      <td>19.854</td>\n",
       "      <td>A</td>\n",
       "      <td>834</td>\n",
       "      <td>IF</td>\n",
       "      <td>2021-09-14 15:09:42+00:00</td>\n",
       "    </tr>\n",
       "    <tr>\n",
       "      <th>1826648</th>\n",
       "      <td>coriolis/6904117/profiles/R6904117_003.nc</td>\n",
       "      <td>2021-02-06 12:42:44+00:00</td>\n",
       "      <td>57.165</td>\n",
       "      <td>19.849</td>\n",
       "      <td>A</td>\n",
       "      <td>834</td>\n",
       "      <td>IF</td>\n",
       "      <td>2021-09-14 15:09:52+00:00</td>\n",
       "    </tr>\n",
       "    <tr>\n",
       "      <th>1826650</th>\n",
       "      <td>coriolis/6904117/profiles/R6904117_004.nc</td>\n",
       "      <td>2021-02-08 00:59:14+00:00</td>\n",
       "      <td>57.136</td>\n",
       "      <td>19.973</td>\n",
       "      <td>A</td>\n",
       "      <td>834</td>\n",
       "      <td>IF</td>\n",
       "      <td>2021-09-14 15:10:04+00:00</td>\n",
       "    </tr>\n",
       "    <tr>\n",
       "      <th>1826652</th>\n",
       "      <td>coriolis/6904117/profiles/R6904117_005.nc</td>\n",
       "      <td>2021-02-09 12:44:44+00:00</td>\n",
       "      <td>57.163</td>\n",
       "      <td>20.046</td>\n",
       "      <td>A</td>\n",
       "      <td>834</td>\n",
       "      <td>IF</td>\n",
       "      <td>2021-09-14 15:10:15+00:00</td>\n",
       "    </tr>\n",
       "    <tr>\n",
       "      <th>...</th>\n",
       "      <td>...</td>\n",
       "      <td>...</td>\n",
       "      <td>...</td>\n",
       "      <td>...</td>\n",
       "      <td>...</td>\n",
       "      <td>...</td>\n",
       "      <td>...</td>\n",
       "      <td>...</td>\n",
       "    </tr>\n",
       "    <tr>\n",
       "      <th>1826978</th>\n",
       "      <td>coriolis/6904117/profiles/R6904117_168.nc</td>\n",
       "      <td>2021-10-12 12:26:21+00:00</td>\n",
       "      <td>57.789</td>\n",
       "      <td>19.844</td>\n",
       "      <td>A</td>\n",
       "      <td>834</td>\n",
       "      <td>IF</td>\n",
       "      <td>2021-10-12 16:43:24+00:00</td>\n",
       "    </tr>\n",
       "    <tr>\n",
       "      <th>1826980</th>\n",
       "      <td>coriolis/6904117/profiles/R6904117_169.nc</td>\n",
       "      <td>2021-10-14 00:28:17+00:00</td>\n",
       "      <td>57.828</td>\n",
       "      <td>19.870</td>\n",
       "      <td>A</td>\n",
       "      <td>834</td>\n",
       "      <td>IF</td>\n",
       "      <td>2021-10-14 04:40:19+00:00</td>\n",
       "    </tr>\n",
       "    <tr>\n",
       "      <th>1826982</th>\n",
       "      <td>coriolis/6904117/profiles/R6904117_170.nc</td>\n",
       "      <td>2021-10-15 12:30:17+00:00</td>\n",
       "      <td>57.816</td>\n",
       "      <td>19.850</td>\n",
       "      <td>A</td>\n",
       "      <td>834</td>\n",
       "      <td>IF</td>\n",
       "      <td>2021-10-15 17:48:45+00:00</td>\n",
       "    </tr>\n",
       "    <tr>\n",
       "      <th>1826984</th>\n",
       "      <td>coriolis/6904117/profiles/R6904117_171.nc</td>\n",
       "      <td>2021-10-17 00:29:12+00:00</td>\n",
       "      <td>57.831</td>\n",
       "      <td>19.861</td>\n",
       "      <td>A</td>\n",
       "      <td>834</td>\n",
       "      <td>IF</td>\n",
       "      <td>2021-10-17 04:40:26+00:00</td>\n",
       "    </tr>\n",
       "    <tr>\n",
       "      <th>1826986</th>\n",
       "      <td>coriolis/6904117/profiles/R6904117_172.nc</td>\n",
       "      <td>2021-10-18 13:12:23+00:00</td>\n",
       "      <td>57.825</td>\n",
       "      <td>19.852</td>\n",
       "      <td>A</td>\n",
       "      <td>834</td>\n",
       "      <td>IF</td>\n",
       "      <td>2021-10-18 16:39:57+00:00</td>\n",
       "    </tr>\n",
       "  </tbody>\n",
       "</table>\n",
       "<p>172 rows × 8 columns</p>\n",
       "</div>"
      ],
      "text/plain": [
       "                                              file                      date  \\\n",
       "1826644  coriolis/6904117/profiles/R6904117_001.nc 2021-02-03 12:42:43+00:00   \n",
       "1826646  coriolis/6904117/profiles/R6904117_002.nc 2021-02-05 00:55:14+00:00   \n",
       "1826648  coriolis/6904117/profiles/R6904117_003.nc 2021-02-06 12:42:44+00:00   \n",
       "1826650  coriolis/6904117/profiles/R6904117_004.nc 2021-02-08 00:59:14+00:00   \n",
       "1826652  coriolis/6904117/profiles/R6904117_005.nc 2021-02-09 12:44:44+00:00   \n",
       "...                                            ...                       ...   \n",
       "1826978  coriolis/6904117/profiles/R6904117_168.nc 2021-10-12 12:26:21+00:00   \n",
       "1826980  coriolis/6904117/profiles/R6904117_169.nc 2021-10-14 00:28:17+00:00   \n",
       "1826982  coriolis/6904117/profiles/R6904117_170.nc 2021-10-15 12:30:17+00:00   \n",
       "1826984  coriolis/6904117/profiles/R6904117_171.nc 2021-10-17 00:29:12+00:00   \n",
       "1826986  coriolis/6904117/profiles/R6904117_172.nc 2021-10-18 13:12:23+00:00   \n",
       "\n",
       "         latitude  longitude ocean  profiler_type institution  \\\n",
       "1826644    57.295     19.963     A            834          IF   \n",
       "1826646    57.251     19.854     A            834          IF   \n",
       "1826648    57.165     19.849     A            834          IF   \n",
       "1826650    57.136     19.973     A            834          IF   \n",
       "1826652    57.163     20.046     A            834          IF   \n",
       "...           ...        ...   ...            ...         ...   \n",
       "1826978    57.789     19.844     A            834          IF   \n",
       "1826980    57.828     19.870     A            834          IF   \n",
       "1826982    57.816     19.850     A            834          IF   \n",
       "1826984    57.831     19.861     A            834          IF   \n",
       "1826986    57.825     19.852     A            834          IF   \n",
       "\n",
       "                      date_update  \n",
       "1826644 2021-09-14 15:09:29+00:00  \n",
       "1826646 2021-09-14 15:09:42+00:00  \n",
       "1826648 2021-09-14 15:09:52+00:00  \n",
       "1826650 2021-09-14 15:10:04+00:00  \n",
       "1826652 2021-09-14 15:10:15+00:00  \n",
       "...                           ...  \n",
       "1826978 2021-10-12 16:43:24+00:00  \n",
       "1826980 2021-10-14 04:40:19+00:00  \n",
       "1826982 2021-10-15 17:48:45+00:00  \n",
       "1826984 2021-10-17 04:40:26+00:00  \n",
       "1826986 2021-10-18 16:39:57+00:00  \n",
       "\n",
       "[172 rows x 8 columns]"
      ]
     },
     "execution_count": 3,
     "metadata": {},
     "output_type": "execute_result"
    }
   ],
   "source": [
    "profiles"
   ]
  },
  {
   "cell_type": "code",
   "execution_count": 4,
   "metadata": {},
   "outputs": [
    {
     "data": {
      "text/html": [
       "<div>\n",
       "<style scoped>\n",
       "    .dataframe tbody tr th:only-of-type {\n",
       "        vertical-align: middle;\n",
       "    }\n",
       "\n",
       "    .dataframe tbody tr th {\n",
       "        vertical-align: top;\n",
       "    }\n",
       "\n",
       "    .dataframe thead th {\n",
       "        text-align: right;\n",
       "    }\n",
       "</style>\n",
       "<table border=\"1\" class=\"dataframe\">\n",
       "  <thead>\n",
       "    <tr style=\"text-align: right;\">\n",
       "      <th></th>\n",
       "      <th>file</th>\n",
       "      <th>date</th>\n",
       "      <th>latitude</th>\n",
       "      <th>longitude</th>\n",
       "      <th>ocean</th>\n",
       "      <th>profiler_type</th>\n",
       "      <th>institution</th>\n",
       "      <th>parameters</th>\n",
       "      <th>parameter_data_mode</th>\n",
       "      <th>date_update</th>\n",
       "    </tr>\n",
       "  </thead>\n",
       "  <tbody>\n",
       "    <tr>\n",
       "      <th>172309</th>\n",
       "      <td>coriolis/6904117/profiles/BR6904117_001.nc</td>\n",
       "      <td>2021-02-03 12:42:43+00:00</td>\n",
       "      <td>57.295</td>\n",
       "      <td>19.963</td>\n",
       "      <td>A</td>\n",
       "      <td>834</td>\n",
       "      <td>IF</td>\n",
       "      <td>MTIME PRES C1PHASE_DOXY C2PHASE_DOXY TEMP_DOXY...</td>\n",
       "      <td>RRRRRARRRRRRRRRRRARRRRRRRRAR</td>\n",
       "      <td>2021-09-14 15:09:29+00:00</td>\n",
       "    </tr>\n",
       "    <tr>\n",
       "      <th>172311</th>\n",
       "      <td>coriolis/6904117/profiles/BR6904117_002.nc</td>\n",
       "      <td>2021-02-05 00:55:14+00:00</td>\n",
       "      <td>57.251</td>\n",
       "      <td>19.854</td>\n",
       "      <td>A</td>\n",
       "      <td>834</td>\n",
       "      <td>IF</td>\n",
       "      <td>MTIME PRES C1PHASE_DOXY C2PHASE_DOXY TEMP_DOXY...</td>\n",
       "      <td>RRRRRARRRRRRRRRRRARRRRRRRRAR</td>\n",
       "      <td>2021-09-14 15:09:42+00:00</td>\n",
       "    </tr>\n",
       "    <tr>\n",
       "      <th>172313</th>\n",
       "      <td>coriolis/6904117/profiles/BR6904117_003.nc</td>\n",
       "      <td>2021-02-06 12:42:44+00:00</td>\n",
       "      <td>57.165</td>\n",
       "      <td>19.849</td>\n",
       "      <td>A</td>\n",
       "      <td>834</td>\n",
       "      <td>IF</td>\n",
       "      <td>MTIME PRES C1PHASE_DOXY C2PHASE_DOXY TEMP_DOXY...</td>\n",
       "      <td>RRRRRARRRRRRRRRRRARRRRRRRRAR</td>\n",
       "      <td>2021-09-14 15:09:52+00:00</td>\n",
       "    </tr>\n",
       "    <tr>\n",
       "      <th>172315</th>\n",
       "      <td>coriolis/6904117/profiles/BR6904117_004.nc</td>\n",
       "      <td>2021-02-08 00:59:14+00:00</td>\n",
       "      <td>57.136</td>\n",
       "      <td>19.973</td>\n",
       "      <td>A</td>\n",
       "      <td>834</td>\n",
       "      <td>IF</td>\n",
       "      <td>MTIME PRES C1PHASE_DOXY C2PHASE_DOXY TEMP_DOXY...</td>\n",
       "      <td>RRRRRARRRRRRRRRRRARRRRRRRRAR</td>\n",
       "      <td>2021-09-14 15:10:04+00:00</td>\n",
       "    </tr>\n",
       "    <tr>\n",
       "      <th>172317</th>\n",
       "      <td>coriolis/6904117/profiles/BR6904117_005.nc</td>\n",
       "      <td>2021-02-09 12:44:44+00:00</td>\n",
       "      <td>57.163</td>\n",
       "      <td>20.046</td>\n",
       "      <td>A</td>\n",
       "      <td>834</td>\n",
       "      <td>IF</td>\n",
       "      <td>MTIME PRES C1PHASE_DOXY C2PHASE_DOXY TEMP_DOXY...</td>\n",
       "      <td>RRRRRARRRRRRRRRRRARRRRRRRRAR</td>\n",
       "      <td>2021-09-14 15:10:15+00:00</td>\n",
       "    </tr>\n",
       "    <tr>\n",
       "      <th>...</th>\n",
       "      <td>...</td>\n",
       "      <td>...</td>\n",
       "      <td>...</td>\n",
       "      <td>...</td>\n",
       "      <td>...</td>\n",
       "      <td>...</td>\n",
       "      <td>...</td>\n",
       "      <td>...</td>\n",
       "      <td>...</td>\n",
       "      <td>...</td>\n",
       "    </tr>\n",
       "    <tr>\n",
       "      <th>172643</th>\n",
       "      <td>coriolis/6904117/profiles/BR6904117_168.nc</td>\n",
       "      <td>2021-10-12 12:26:21+00:00</td>\n",
       "      <td>57.789</td>\n",
       "      <td>19.844</td>\n",
       "      <td>A</td>\n",
       "      <td>834</td>\n",
       "      <td>IF</td>\n",
       "      <td>MTIME PRES C1PHASE_DOXY C2PHASE_DOXY TEMP_DOXY...</td>\n",
       "      <td>RRRRRARRRRRRRRRRRARRRRRRRRAR</td>\n",
       "      <td>2021-10-12 16:43:24+00:00</td>\n",
       "    </tr>\n",
       "    <tr>\n",
       "      <th>172645</th>\n",
       "      <td>coriolis/6904117/profiles/BR6904117_169.nc</td>\n",
       "      <td>2021-10-14 00:28:17+00:00</td>\n",
       "      <td>57.828</td>\n",
       "      <td>19.870</td>\n",
       "      <td>A</td>\n",
       "      <td>834</td>\n",
       "      <td>IF</td>\n",
       "      <td>MTIME PRES C1PHASE_DOXY C2PHASE_DOXY TEMP_DOXY...</td>\n",
       "      <td>RRRRRARRRRRRRRRRRARRRRRRRRAR</td>\n",
       "      <td>2021-10-14 04:40:19+00:00</td>\n",
       "    </tr>\n",
       "    <tr>\n",
       "      <th>172647</th>\n",
       "      <td>coriolis/6904117/profiles/BR6904117_170.nc</td>\n",
       "      <td>2021-10-15 12:30:17+00:00</td>\n",
       "      <td>57.816</td>\n",
       "      <td>19.850</td>\n",
       "      <td>A</td>\n",
       "      <td>834</td>\n",
       "      <td>IF</td>\n",
       "      <td>MTIME PRES C1PHASE_DOXY C2PHASE_DOXY TEMP_DOXY...</td>\n",
       "      <td>RRRRRARRRRRRRRRRRARRRRRRRRAR</td>\n",
       "      <td>2021-10-15 17:48:45+00:00</td>\n",
       "    </tr>\n",
       "    <tr>\n",
       "      <th>172649</th>\n",
       "      <td>coriolis/6904117/profiles/BR6904117_171.nc</td>\n",
       "      <td>2021-10-17 00:29:12+00:00</td>\n",
       "      <td>57.831</td>\n",
       "      <td>19.861</td>\n",
       "      <td>A</td>\n",
       "      <td>834</td>\n",
       "      <td>IF</td>\n",
       "      <td>MTIME PRES C1PHASE_DOXY C2PHASE_DOXY TEMP_DOXY...</td>\n",
       "      <td>RRRRRARRRRRRRRRRRARRRRRRRRAR</td>\n",
       "      <td>2021-10-17 04:40:26+00:00</td>\n",
       "    </tr>\n",
       "    <tr>\n",
       "      <th>172651</th>\n",
       "      <td>coriolis/6904117/profiles/BR6904117_172.nc</td>\n",
       "      <td>2021-10-18 13:12:23+00:00</td>\n",
       "      <td>57.825</td>\n",
       "      <td>19.852</td>\n",
       "      <td>A</td>\n",
       "      <td>834</td>\n",
       "      <td>IF</td>\n",
       "      <td>MTIME PRES C1PHASE_DOXY C2PHASE_DOXY TEMP_DOXY...</td>\n",
       "      <td>RRRRRARRRRRRRRRRRARRRRRRRRAR</td>\n",
       "      <td>2021-10-18 16:39:57+00:00</td>\n",
       "    </tr>\n",
       "  </tbody>\n",
       "</table>\n",
       "<p>172 rows × 10 columns</p>\n",
       "</div>"
      ],
      "text/plain": [
       "                                              file                      date  \\\n",
       "172309  coriolis/6904117/profiles/BR6904117_001.nc 2021-02-03 12:42:43+00:00   \n",
       "172311  coriolis/6904117/profiles/BR6904117_002.nc 2021-02-05 00:55:14+00:00   \n",
       "172313  coriolis/6904117/profiles/BR6904117_003.nc 2021-02-06 12:42:44+00:00   \n",
       "172315  coriolis/6904117/profiles/BR6904117_004.nc 2021-02-08 00:59:14+00:00   \n",
       "172317  coriolis/6904117/profiles/BR6904117_005.nc 2021-02-09 12:44:44+00:00   \n",
       "...                                            ...                       ...   \n",
       "172643  coriolis/6904117/profiles/BR6904117_168.nc 2021-10-12 12:26:21+00:00   \n",
       "172645  coriolis/6904117/profiles/BR6904117_169.nc 2021-10-14 00:28:17+00:00   \n",
       "172647  coriolis/6904117/profiles/BR6904117_170.nc 2021-10-15 12:30:17+00:00   \n",
       "172649  coriolis/6904117/profiles/BR6904117_171.nc 2021-10-17 00:29:12+00:00   \n",
       "172651  coriolis/6904117/profiles/BR6904117_172.nc 2021-10-18 13:12:23+00:00   \n",
       "\n",
       "        latitude  longitude ocean  profiler_type institution  \\\n",
       "172309    57.295     19.963     A            834          IF   \n",
       "172311    57.251     19.854     A            834          IF   \n",
       "172313    57.165     19.849     A            834          IF   \n",
       "172315    57.136     19.973     A            834          IF   \n",
       "172317    57.163     20.046     A            834          IF   \n",
       "...          ...        ...   ...            ...         ...   \n",
       "172643    57.789     19.844     A            834          IF   \n",
       "172645    57.828     19.870     A            834          IF   \n",
       "172647    57.816     19.850     A            834          IF   \n",
       "172649    57.831     19.861     A            834          IF   \n",
       "172651    57.825     19.852     A            834          IF   \n",
       "\n",
       "                                               parameters  \\\n",
       "172309  MTIME PRES C1PHASE_DOXY C2PHASE_DOXY TEMP_DOXY...   \n",
       "172311  MTIME PRES C1PHASE_DOXY C2PHASE_DOXY TEMP_DOXY...   \n",
       "172313  MTIME PRES C1PHASE_DOXY C2PHASE_DOXY TEMP_DOXY...   \n",
       "172315  MTIME PRES C1PHASE_DOXY C2PHASE_DOXY TEMP_DOXY...   \n",
       "172317  MTIME PRES C1PHASE_DOXY C2PHASE_DOXY TEMP_DOXY...   \n",
       "...                                                   ...   \n",
       "172643  MTIME PRES C1PHASE_DOXY C2PHASE_DOXY TEMP_DOXY...   \n",
       "172645  MTIME PRES C1PHASE_DOXY C2PHASE_DOXY TEMP_DOXY...   \n",
       "172647  MTIME PRES C1PHASE_DOXY C2PHASE_DOXY TEMP_DOXY...   \n",
       "172649  MTIME PRES C1PHASE_DOXY C2PHASE_DOXY TEMP_DOXY...   \n",
       "172651  MTIME PRES C1PHASE_DOXY C2PHASE_DOXY TEMP_DOXY...   \n",
       "\n",
       "                 parameter_data_mode               date_update  \n",
       "172309  RRRRRARRRRRRRRRRRARRRRRRRRAR 2021-09-14 15:09:29+00:00  \n",
       "172311  RRRRRARRRRRRRRRRRARRRRRRRRAR 2021-09-14 15:09:42+00:00  \n",
       "172313  RRRRRARRRRRRRRRRRARRRRRRRRAR 2021-09-14 15:09:52+00:00  \n",
       "172315  RRRRRARRRRRRRRRRRARRRRRRRRAR 2021-09-14 15:10:04+00:00  \n",
       "172317  RRRRRARRRRRRRRRRRARRRRRRRRAR 2021-09-14 15:10:15+00:00  \n",
       "...                              ...                       ...  \n",
       "172643  RRRRRARRRRRRRRRRRARRRRRRRRAR 2021-10-12 16:43:24+00:00  \n",
       "172645  RRRRRARRRRRRRRRRRARRRRRRRRAR 2021-10-14 04:40:19+00:00  \n",
       "172647  RRRRRARRRRRRRRRRRARRRRRRRRAR 2021-10-15 17:48:45+00:00  \n",
       "172649  RRRRRARRRRRRRRRRRARRRRRRRRAR 2021-10-17 04:40:26+00:00  \n",
       "172651  RRRRRARRRRRRRRRRRARRRRRRRRAR 2021-10-18 16:39:57+00:00  \n",
       "\n",
       "[172 rows x 10 columns]"
      ]
     },
     "execution_count": 4,
     "metadata": {},
     "output_type": "execute_result"
    }
   ],
   "source": [
    "bgc_profiles"
   ]
  },
  {
   "cell_type": "markdown",
   "metadata": {},
   "source": [
    "### The recipe\n",
    "\n",
    "As I understand it, this is what has to happen to the real-time measurements during the CHLA processing:\n",
    "\n",
    "- `CHLA` values whose flags are unset are flagged as `Flag.PROBABLY_BAD`\n",
    "- `CHLA_ADJUSTED` values whose flags are unset are flagged as `Flag.GOOD`\n",
    "- Apply global range test (flag for `CHLA` and `CHLA_ADJUSTED` set to `Flag.BAD` for CHLA values outside the range -0.1 to 100)\n",
    "- Apply the \"dark correction\" to `CHLA` values:\n",
    "    - Read the `SCIENTIFIC_CALIB_COEFFICIENT` variable for the CHLA profile and parse the `FLOAT_DARK`, and `FLOAT_DARK_QC` values. It is likely that `FLOAT_DARK_QC` doesn't exist in any files yet, so default to `Flag.NO_QC`. For profiles that haven't gone through 5 cycles deeper than the \"mixed layer depth\", there should be a `PRELIM_DARK` variable in `SCIENTIFIC_CALIB_COEFFICIENT`\n",
    "    - If `FLOAT_DARK` exists, apply the equation `CHLA_ADJUSTED = ((FLUORESCENCE_CHLA-FLOAT_DARK)*SCALE_CHLA)/2`.\n",
    "    - If it doesn't, calculate try to calculate `PRELIM_DARK` and look for 4 previous instances of `PRELIM_DARK` with which `FLOAT_DARK/_QC` should be calculated. If there are 5 `PRELIM_DARK` values, calculate `FLOAT_DARK/_QC` and use that. If there aren't calculate the adjusted value using `PRELIM_DARK`.\n",
    "- Apply the non-photochemical quenching correction (NPC) to the value calculated by the dark correction. This is the correction for the upper portion of the ocean whereby phytoplankton have a reduced response to UV light because they have already been exposed to it from the sun.\n",
    "\n",
    "A few of these steps have details that need to be expanded upon, so let's do those first"
   ]
  },
  {
   "cell_type": "markdown",
   "metadata": {},
   "source": [
    "### QC Flags\n",
    "\n",
    "In addition to computing adjusted realtime values, the QC checks for CHLA also flag some values using the Argo flag scheme. One of the challeneges in doing this is that you don't want to make a data point look \"better\" by assigning a QC flag (e.g., flag a value as \"probably bad\" when it's already been flagged as \"bad\"). This logic was implemented by the experimental [argortqcpy](https://github.com/euroargodev/argortqcpy) package ([here](https://github.com/euroargodev/argortqcpy/blame/main/argortqcpy/checks.py)) and I've modified it slightly to get all of the flag logic in one happy Python class:"
   ]
  },
  {
   "cell_type": "code",
   "execution_count": 5,
   "metadata": {},
   "outputs": [],
   "source": [
    "class Flag:\n",
    "    \"\"\"\n",
    "    Flags for check output. These values are valid values of the\n",
    "    ``qc`` and ``adjusted_qc`` attributes of a\n",
    "    :class:`~medsrtqc.core.Trace` object. Utility functions are\n",
    "    provided as static methods to get the name or value of a flag\n",
    "    or to update flag values ensuring that values that are already\n",
    "    marked at a \"worse\" QC level are not inadvertently changed.\n",
    "    \"\"\"\n",
    "\n",
    "    @staticmethod\n",
    "    def label(flag):\n",
    "        \"\"\"Return the label of a QC flag\"\"\"\n",
    "        return Flag._names[flag]\n",
    "\n",
    "    @staticmethod\n",
    "    def value(label):\n",
    "        \"\"\"Return the value of a QC flag\"\"\"\n",
    "        for value, lab in Flag._names.items():\n",
    "            if label == lab:\n",
    "                return value\n",
    "        raise KeyError(f\"'{label}' is not the name of a QC flag\")\n",
    "\n",
    "    @staticmethod\n",
    "    def update_safely(qc, to, where=None):\n",
    "        \"\"\"\n",
    "        Safely update ``qc`` to the value ``to``. Values that are\n",
    "        already marked at a \"worse\" QC level are not modified.\n",
    "        \"\"\"\n",
    "        where = slice(None) if where is None else where\n",
    "        flags = qc[where]\n",
    "        for overridable_flag in Flag._precedence[to]:\n",
    "            flags[flags == overridable_flag] = to\n",
    "        qc[where] = flags\n",
    "\n",
    "    NO_QC = b'0'\n",
    "    GOOD = b'1'\n",
    "    PROBABLY_GOOD = b'2'\n",
    "    PROBABLY_BAD = b'3'\n",
    "    BAD = b'4'\n",
    "    CHANGED = b'5'\n",
    "    # '6' not used\n",
    "    # '7' not used\n",
    "    ESTIMATED = b'8'\n",
    "    MISSING = b'9'\n",
    "    FILL_VALUE = b''\n",
    "\n",
    "    _names = {\n",
    "        NO_QC: 'NO_QC',\n",
    "        GOOD: 'GOOD',\n",
    "        PROBABLY_GOOD: 'PROBABLY_GOOD',\n",
    "        PROBABLY_BAD: 'PROBABLY_BAD',\n",
    "        BAD: 'BAD',\n",
    "        CHANGED: 'CHANGED',\n",
    "        ESTIMATED: 'ESTIMATED',\n",
    "        MISSING: 'MISSING',\n",
    "        FILL_VALUE: 'FILL_VALUE'\n",
    "    }\n",
    "\n",
    "    _precedence = {\n",
    "        NO_QC: set(),\n",
    "        GOOD: {\n",
    "            NO_QC,\n",
    "        },\n",
    "        PROBABLY_GOOD: {\n",
    "            NO_QC,\n",
    "            GOOD,\n",
    "            CHANGED,\n",
    "        },\n",
    "        PROBABLY_BAD: {\n",
    "            NO_QC,\n",
    "            GOOD,\n",
    "            PROBABLY_GOOD,\n",
    "            CHANGED,\n",
    "        },\n",
    "        BAD: {\n",
    "            NO_QC,\n",
    "            GOOD,\n",
    "            PROBABLY_GOOD,\n",
    "            CHANGED,\n",
    "            PROBABLY_BAD,\n",
    "        },\n",
    "        CHANGED: {\n",
    "            NO_QC,\n",
    "        },\n",
    "        ESTIMATED: {\n",
    "            NO_QC,\n",
    "            GOOD,\n",
    "            PROBABLY_GOOD,\n",
    "        },\n",
    "        MISSING: {\n",
    "            NO_QC,\n",
    "        },\n",
    "    }"
   ]
  },
  {
   "cell_type": "markdown",
   "metadata": {},
   "source": [
    "### Parsing SCIENTIFIC_CALIB_COEFFICIENT\n",
    "\n",
    "This variable in the NetCDF files looks like this:\n",
    "\n",
    "```\n",
    "DARK_CHLA = 47, SCALE_CHLA = 0.0073\n",
    "```\n",
    "\n",
    "and is in string form. It can be parsed by splitting a few times to return a `dict()` and reconstituted by pasting together a few times."
   ]
  },
  {
   "cell_type": "code",
   "execution_count": 6,
   "metadata": {},
   "outputs": [
    {
     "name": "stdout",
     "output_type": "stream",
     "text": [
      "{'DARK_CHLA': 47.0, 'SCALE_CHLA': 0.0073}\n"
     ]
    },
    {
     "data": {
      "text/plain": [
       "'DARK_CHLA = 47.0, SCALE_CHLA = 0.0073, SOMETHING_ELSE = 1.23'"
      ]
     },
     "execution_count": 6,
     "metadata": {},
     "output_type": "execute_result"
    }
   ],
   "source": [
    "def parse_scientific_calib_coefficient(val):\n",
    "    parts = val.split(',')\n",
    "    vals =  [part.split('=') for part in parts]\n",
    "    return {k.strip(): float(v.strip()) for k, v in vals}\n",
    "\n",
    "def unparse_calib_coefficient(coefs):\n",
    "    return ', '.join(f'{k} = {v}' for k, v in coefs.items())\n",
    "\n",
    "coefs = parse_scientific_calib_coefficient('DARK_CHLA = 47, SCALE_CHLA = 0.0073')\n",
    "print(coefs)\n",
    "coefs['SOMETHING_ELSE'] = 1.23\n",
    "unparse_calib_coefficient(coefs)"
   ]
  },
  {
   "cell_type": "markdown",
   "metadata": {},
   "source": [
    "### The mixed layer depth\n",
    "\n",
    "As I understand it, there are as many ways to calculate the mixed layer depth as there are oceanographers. The following is an implementation based on the guidance provided in the draft CHLA QC document. I'm using `plt` as an argument here so that you can debug this stuff interactively (but skip installing matplotlib in production). The gist is that it looks for density changes > 0.03 below 10 dbar."
   ]
  },
  {
   "cell_type": "code",
   "execution_count": 7,
   "metadata": {},
   "outputs": [],
   "source": [
    "import gsw\n",
    "\n",
    "def calc_mixed_layer_depth(pres, temp, psal, longitude=0, latitude=0, plt=None):\n",
    "    abs_salinity = gsw.SA_from_SP(psal, pres, longitude, latitude)\n",
    "    conservative_temp = gsw.CT_from_t(abs_salinity, temp, pres)\n",
    "    density = gsw.sigma0(abs_salinity, conservative_temp)\n",
    "\n",
    "    if plt:\n",
    "        plt.plot(density, pres)\n",
    "        plt.gca().invert_yaxis()\n",
    "        plt.gca().set_xlabel('sigma0')\n",
    "\n",
    "    mixed_layer_start = (np.diff(density) > 0.03) & (pres[:-1] > 10)\n",
    "    if not np.any(mixed_layer_start):\n",
    "        # Can't determine mixed layer depth (no density changes > 0.03 below 10 dbar)\n",
    "        return None\n",
    "\n",
    "    mixed_layer_start_index = np.where(mixed_layer_start)[0][0]\n",
    "    mixed_layer_depth = pres[mixed_layer_start_index]\n",
    "\n",
    "    if plt:\n",
    "        plt.gca().axhline(y = mixed_layer_depth, linestyle='--')\n",
    "\n",
    "    return mixed_layer_depth"
   ]
  },
  {
   "cell_type": "markdown",
   "metadata": {},
   "source": [
    "It's a little easier to parameterize this in terms of a `NetCDFWrapper` object since that's what we get handed."
   ]
  },
  {
   "cell_type": "code",
   "execution_count": 8,
   "metadata": {},
   "outputs": [
    {
     "name": "stderr",
     "output_type": "stream",
     "text": [
      "Downloading 'https://data-argo.ifremer.fr/dac/coriolis/6904117/profiles/R6904117_001.nc'\n"
     ]
    },
    {
     "data": {
      "text/plain": [
       "60.5"
      ]
     },
     "execution_count": 8,
     "metadata": {},
     "output_type": "execute_result"
    },
    {
     "data": {
      "image/png": "[encoded data removed]",
      "text/plain": [
       "<Figure size 432x288 with 1 Axes>"
      ]
     },
     "metadata": {
      "needs_background": "light"
     },
     "output_type": "display_data"
    }
   ],
   "source": [
    "def calc_mixed_layer_depth_nc(nc_core, plt=None):\n",
    "    if 'PRES' not in nc_core.variables or \\\n",
    "        'TEMP' not in nc_core.variables or \\\n",
    "        'PSAL' not in nc_core.variables:\n",
    "        return None\n",
    "    \n",
    "    pres = nc_core['PRES'][:][0]\n",
    "    temp = nc_core['TEMP'][:][0]\n",
    "    psal = nc_core['PSAL'][:][0]\n",
    "\n",
    "    if 'LONGITUDE' in nc_core.variables and 'LATITUDE' in nc_core.variables:\n",
    "        longitude = nc_core['LONGITUDE'][:][0]\n",
    "        latitude = nc_core['LATITUDE'][:][0]\n",
    "    else:\n",
    "        longitude = 0\n",
    "        latitude = 0\n",
    "\n",
    "    return calc_mixed_layer_depth(\n",
    "        pres, temp, psal, \n",
    "        longitude=longitude,\n",
    "        latitude=latitude, \n",
    "        plt=plt)\n",
    "\n",
    "calc_mixed_layer_depth_nc(\n",
    "    argo.nc('dac/' + profiles.reset_index().file[0]), \n",
    "    plt=plt)"
   ]
  },
  {
   "cell_type": "markdown",
   "metadata": {},
   "source": [
    "### Calculating FLOAT_DARK\n",
    "\n",
    "The guidance on calculating `PRELIM_DARK` is that it's the minimum `CHLA` value below the mixed layer depth boundary. In Python:"
   ]
  },
  {
   "cell_type": "code",
   "execution_count": 9,
   "metadata": {},
   "outputs": [],
   "source": [
    "def calc_prelim_dark(pres, chla, mixed_layer_depth):\n",
    "    if mixed_layer_depth is None:\n",
    "        return None\n",
    "    \n",
    "    chla_filter = chla[(pres > mixed_layer_depth) & ~np.isnan(chla)]\n",
    "    if len(chla_filter) > 0:\n",
    "        return chla_filter.min()\n",
    "    else:\n",
    "        return None"
   ]
  },
  {
   "cell_type": "markdown",
   "metadata": {},
   "source": [
    "Because no `PRELIM_DARK` values have been calculated since the spec is new, we need something to do this too. Again, it's a little easier below if we parameterize this in terms of a `NetCDFWrapper`."
   ]
  },
  {
   "cell_type": "code",
   "execution_count": 10,
   "metadata": {},
   "outputs": [
    {
     "name": "stderr",
     "output_type": "stream",
     "text": [
      "Downloading 'https://data-argo.ifremer.fr/dac/coriolis/6904117/profiles/BR6904117_001.nc'\n"
     ]
    },
    {
     "data": {
      "text/plain": [
       "0.2263"
      ]
     },
     "execution_count": 10,
     "metadata": {},
     "output_type": "execute_result"
    }
   ],
   "source": [
    "def calc_prelim_dark_nc(nc_bgc, nc_core):\n",
    "    if 'CHLA' not in nc_bgc.variables or 'PRES' not in nc_bgc.variables:\n",
    "        raise KeyError(f\"'CHLA' or 'PRES' not found\")\n",
    "    \n",
    "    # we need a mixed layer depth for this calculation\n",
    "    mixed_layer_depth = calc_mixed_layer_depth_nc(nc_core)\n",
    "    if mixed_layer_depth is None:\n",
    "        return None\n",
    "\n",
    "    chla_prof_i = nc_bgc.param[nc_bgc.param.STATION_PARAMETERS.str.strip() == 'CHLA'] \\\n",
    "        .reset_index() \\\n",
    "        .iloc[0] \\\n",
    "        .N_PROF\n",
    "\n",
    "    pres = nc_bgc['PRES'][:][chla_prof_i]\n",
    "    chla = nc_bgc['CHLA'][:][chla_prof_i]\n",
    "    \n",
    "    return calc_prelim_dark(pres, chla, mixed_layer_depth)\n",
    "\n",
    "calc_prelim_dark_nc(\n",
    "    argo.nc('dac/' + bgc_profiles.reset_index().file[0]),\n",
    "    argo.nc('dac/' + profiles.reset_index().file[0]))"
   ]
  },
  {
   "cell_type": "markdown",
   "metadata": {},
   "source": [
    "Calculating `FLOAT_DARK` is a little more involved and it's where we'll make use of our float/cycle index that we created earlier. We need to start from the first NetCDF file for the float and collect any `PRELIM_DARK` values from `SCIENTIFIC_CALIB_COEFFICIENT` that might have been calculated. If there were 3 or fewer, we do nothing. If there are exactly 4, we add our `PRELIM_DARK` that we just calculated, calculate the mean of the values, and use that. The `FLOAT_DARK_QC` gets added based on the standard deviation of the `PRELIM_DARK` values."
   ]
  },
  {
   "cell_type": "code",
   "execution_count": 11,
   "metadata": {},
   "outputs": [
    {
     "name": "stderr",
     "output_type": "stream",
     "text": [
      "Downloading 9 files from 'https://data-argo.ifremer.fr/dac/coriolis/6904117/profiles'\n"
     ]
    },
    {
     "data": {
      "text/plain": [
       "array([], dtype=float64)"
      ]
     },
     "execution_count": 11,
     "metadata": {},
     "output_type": "execute_result"
    }
   ],
   "source": [
    "def accumulate_prelim_dark(bio_prof_files):\n",
    "    prelim_dark = []\n",
    "    for nc in argo.nc(bio_prof_files):\n",
    "        coefs_df = nc.calib[nc.calib.PARAMETER.str.strip() == 'CHLA'] \\\n",
    "            .filter(['SCIENTIFIC_CALIB_COEFFICIENT'])\n",
    "        if len(coefs_df) == 0 or 'SCIENTIFIC_CALIB_COEFFICIENT' not in coefs_df:\n",
    "            continue\n",
    "\n",
    "        coefs = parse_scientific_calib_coefficient(coefs_df.iloc[0][0])\n",
    "        if 'PRELIM_DARK' not in coefs:\n",
    "            continue\n",
    "        \n",
    "        prelim_dark.append(coefs['PRELIM_DARK'])\n",
    "    \n",
    "    return np.array(prelim_dark)\n",
    "\n",
    "accumulate_prelim_dark(['dac/' + f for f in bgc_profiles.head(10).file])"
   ]
  },
  {
   "cell_type": "markdown",
   "metadata": {},
   "source": [
    "An empty result here is expected since the scheme was just invented."
   ]
  },
  {
   "cell_type": "markdown",
   "metadata": {},
   "source": [
    "### The whole game\n",
    "\n",
    "The rest is not very oceanographic but does involve navigating the structure of BGC variables' encoding in Argo profile NetCDFs. First, we get a `NetCDFWrapper` handle and a local filename to the .nc file. In argopandas, a `NetCDFWrapper` is a thin wrapper around a `netCDF4.Dataset` that implements a few common accessors in addition to the most common accessors for the dataset (notably, `obj.variables` and `obj['variable name']`)."
   ]
  },
  {
   "cell_type": "code",
   "execution_count": 12,
   "metadata": {},
   "outputs": [
    {
     "name": "stderr",
     "output_type": "stream",
     "text": [
      "Downloading 'https://data-argo.ifremer.fr/dac/coriolis/6904117/profiles/BR6904117_171.nc'\n",
      "Downloading 'https://data-argo.ifremer.fr/dac/coriolis/6904117/profiles/R6904117_171.nc'\n"
     ]
    },
    {
     "data": {
      "image/png": "[encoded data removed]",
      "text/plain": [
       "<Figure size 432x288 with 1 Axes>"
      ]
     },
     "metadata": {
      "needs_background": "light"
     },
     "output_type": "display_data"
    }
   ],
   "source": [
    "nc_filename = argo.filename('dac/coriolis/6904117/profiles/BR6904117_171.nc')\n",
    "nc_core_filename = argo.filename('dac/coriolis/6904117/profiles/R6904117_171.nc')\n",
    "nc = argo.nc(nc_filename)\n",
    "nc_core = argo.nc(nc_core_filename)\n",
    "\n",
    "# make sure we've got a CHLA variable\n",
    "if 'CHLA' not in nc.variables or 'PRES' not in nc.variables:\n",
    "    raise KeyError(f\"'CHLA' or 'PRES' not found in '{nc_filename}'\")\n",
    "\n",
    "# find the profile index associated with CHLA\n",
    "chla_prof_i = nc.param[nc.param.STATION_PARAMETERS.str.strip() == 'CHLA'] \\\n",
    "    .reset_index() \\\n",
    "    .iloc[0] \\\n",
    "    .N_PROF\n",
    "\n",
    "# get the PRES/CHLA/CHLA_QC series we'll work with\n",
    "# (note that there will be trailing NaN values here\n",
    "# but we want to keep those because we'll have to keep the\n",
    "# size the same to reassign values to a copy later)\n",
    "pres = nc['PRES'][:][chla_prof_i]\n",
    "chla = nc['CHLA'][:][chla_prof_i]\n",
    "chla_qc_original = nc['CHLA_QC'][:][chla_prof_i]\n",
    "chla_qc = chla_qc_original.copy()  # keep original so we can compare!\n",
    "\n",
    "# create the chla_adjusted and chla_qc variables from originals\n",
    "chla_adjusted = chla.copy()\n",
    "chla_adjusted_qc = chla_qc.copy()\n",
    "\n",
    "# reset chla_qc to Flag.NO_QC\n",
    "chla_qc[:] = Flag.NO_QC\n",
    "\n",
    "# plot to verify!\n",
    "plt.plot(chla, pres)\n",
    "plt.gca().invert_yaxis()"
   ]
  },
  {
   "cell_type": "markdown",
   "metadata": {},
   "source": [
    "The first step is to set the initial QC values to `Flag.PROBABLY_BAD`."
   ]
  },
  {
   "cell_type": "code",
   "execution_count": 13,
   "metadata": {},
   "outputs": [],
   "source": [
    "chla_qc[:] = Flag.PROBABLY_BAD\n",
    "chla_adjusted_qc[:] = Flag.GOOD"
   ]
  },
  {
   "cell_type": "markdown",
   "metadata": {},
   "source": [
    "Then we apply the global range test:"
   ]
  },
  {
   "cell_type": "code",
   "execution_count": 14,
   "metadata": {},
   "outputs": [],
   "source": [
    "Flag.update_safely(chla_qc, Flag.BAD, where=(chla < 0.1) | (chla > 100))\n",
    "Flag.update_safely(chla_adjusted_qc, Flag.BAD, where=(chla < 0.1) | (chla > 100))"
   ]
  },
  {
   "cell_type": "markdown",
   "metadata": {},
   "source": [
    "Next, we go through the steps for the dark correction. This profile was collected before any of this QC was implemented so it doesn't contain any `PRELIM_DARK` or `FLOAT_DARK`. I'll write out the logic anyway."
   ]
  },
  {
   "cell_type": "code",
   "execution_count": 15,
   "metadata": {},
   "outputs": [
    {
     "name": "stderr",
     "output_type": "stream",
     "text": [
      "Downloading 161 files from 'https://data-argo.ifremer.fr/dac/coriolis/6904117/profiles'\n"
     ]
    },
    {
     "name": "stdout",
     "output_type": "stream",
     "text": [
      "[1.1241999864578247 1.1461000442504883 1.292099952697754\n",
      " 1.0292999744415283 0.23360000550746918 0.20440000295639038\n",
      " 0.21170000731945038 0.21170000731945038 0.23360000550746918\n",
      " 0.2773999869823456 0.2847000062465668 0.2847000062465668\n",
      " 0.2919999957084656]\n",
      "[0.9343999624252319 0.9563000202178955 1.1022999286651611\n",
      " 0.8394999504089355 0.04380001127719879 0.014600008726119995\n",
      " 0.021900013089179993 0.021900013089179993 0.04380001127719879\n",
      " 0.0875999927520752 0.09490001201629639 0.09490001201629639\n",
      " 0.10220000147819519]\n"
     ]
    }
   ],
   "source": [
    "coefs_df = nc.calib[nc.calib.PARAMETER.str.strip() == 'CHLA'] \\\n",
    "    .filter(['SCIENTIFIC_CALIB_COEFFICIENT'])\n",
    "if len(coefs_df) == 0 or 'SCIENTIFIC_CALIB_COEFFICIENT' not in coefs_df:\n",
    "    raise ValueError(f\"Can't find 'SCIENTIFIC_CALIB_COEFFICIENT' for 'CHLA' in file '{nc_filename}'\")\n",
    "\n",
    "# keep original and modified coefs so we know if they need updating\n",
    "coefs = parse_scientific_calib_coefficient(coefs_df.iloc[0][0])\n",
    "coefs_mod = coefs.copy()\n",
    "\n",
    "if 'FLOAT_DARK' in coefs:\n",
    "    float_dark_qc = coefs['FLOAT_DARK_QC'] if 'FLOAT_DARK_QC' in coefs else Flag.NO_QC\n",
    "    chla_adjusted[:] = chla - coefs['FLOAT_DARK']\n",
    "    Flag.update_safely(chla_adjusted_qc, float_dark_qc)\n",
    "else:\n",
    "    prelim_dark_acc = accumulate_prelim_dark(['dac/' + f for f in bgc_profiles.file])\n",
    "    prelim_dark_this = calc_prelim_dark_nc(nc, nc_core)\n",
    "    if prelim_dark_this is None:\n",
    "        prelim_dark_this = np.array([])\n",
    "    else:\n",
    "        coefs_mod['PRELIM_DARK'] = prelim_dark_this\n",
    "        prelim_dark_this = np.array([prelim_dark_this])\n",
    "    \n",
    "    prelim_dark_acc = np.concatenate([prelim_dark_acc, prelim_dark_this])\n",
    "\n",
    "    if len(prelim_dark_acc) > 0:\n",
    "        float_dark = prelim_dark_acc.mean()\n",
    "        float_dark_qc = Flag.PROBABLY_GOOD  # not sure how this is actually calculated\n",
    "\n",
    "        chla_adjusted[:] = chla - float_dark\n",
    "        Flag.update_safely(chla_adjusted_qc, float_dark_qc)\n",
    "\n",
    "        # potentially store in coefs_mod if there are enough PRELIM_DARK values\n",
    "        if len(prelim_dark_acc) == 5:\n",
    "            coefs_mod['FLOAT_DARK'] = float_dark\n",
    "            coefs_mod['FLOAT_DARK_QC'] = float_dark_qc\n",
    "    else:\n",
    "        # we can't calculate the adjusted value\n",
    "        chla_adjusted[:] = np.nan\n",
    "\n",
    "# should show the adjustment\n",
    "print(chla[::100])\n",
    "print(chla_adjusted[::100])"
   ]
  },
  {
   "cell_type": "markdown",
   "metadata": {},
   "source": [
    "There are no previous `PRELIM_DARK` values and no `FLOAT_DARK` value, so this applies the calculation based on the current profile.\n",
    "\n",
    "From my reading of the document, that's the operation! What's left is to figure out what changed and modify the NetCDF. There is probably an object diff library in Python that could do a good job of reporting what changed and I'd encourage readers to implement it! The objects that might have changed are `coefs_mod` (check differences with `coefs`) and `chla_qc` (check differences via `chla_qc_original`). `chla_adjusted` and `chla_adjusted_qc` can be written without checking diffs since in theory a brand new file won't have those variables anyway.\n",
    "\n",
    "I imagine modification would be done by making a copy of the NetCDF file and opening via `netCDF4.Dataset()` in write mode."
   ]
  },
  {
   "cell_type": "code",
   "execution_count": 16,
   "metadata": {},
   "outputs": [],
   "source": [
    "if coefs_mod != coefs:\n",
    "    coefs_serialized = unparse_calib_coefficient(coefs_mod)\n",
    "    # write coefs_searialized to the appropriate location in \n",
    "    # 'SCIENTIFIC_CALIB_COEFFICIENT'\n",
    "\n",
    "chla_qc_updated = chla_qc != chla_qc_original"
   ]
  },
  {
   "cell_type": "markdown",
   "metadata": {},
   "source": [
    "### Tests\n",
    "\n",
    "In the course of writing all of this I also wrote some unit tests and it's worth putting them here so they don't get lost!"
   ]
  },
  {
   "cell_type": "code",
   "execution_count": 17,
   "metadata": {},
   "outputs": [],
   "source": [
    "import unittest\n",
    "\n",
    "class TestFlag(unittest.TestCase):\n",
    "\n",
    "    def test_value(self):\n",
    "        self.assertEqual(Flag.NO_QC, Flag('NO_QC'))\n",
    "        self.assertEqual(Flag.label(Flag.NO_QC), 'NO_QC')\n",
    "        with self.assertRaises(KeyError):\n",
    "            Flag('not a QC key')\n",
    "        with self.assertRaises(KeyError):\n",
    "            Flag.label(b'def not a flag')\n",
    "\n",
    "    def test_update(self):\n",
    "        qc = np.array([Flag.GOOD, Flag.PROBABLY_BAD, Flag.MISSING])\n",
    "        Flag.update_safely(qc, to=Flag.BAD)\n",
    "        self.assertTrue(np.all(qc == np.array([Flag.BAD, Flag.BAD, Flag.MISSING])))\n",
    "\n",
    "        qc = np.array([Flag.GOOD, Flag.PROBABLY_BAD, Flag.MISSING])\n",
    "        Flag.update_safely(qc, to=Flag.BAD, where=np.array([False, True, False]))\n",
    "        self.assertTrue(np.all(qc == np.array([Flag.GOOD, Flag.BAD, Flag.MISSING])))\n"
   ]
  }
 ],
 "metadata": {
  "interpreter": {
   "hash": "2db524e06e9f5f4ffedc911c917cb75e12dbc923643829bf417064a77eb14d37"
  },
  "kernelspec": {
   "display_name": "Python 3.8.3 64-bit",
   "name": "python3"
  },
  "language_info": {
   "codemirror_mode": {
    "name": "ipython",
    "version": 3
   },
   "file_extension": ".py",
   "mimetype": "text/x-python",
   "name": "python",
   "nbconvert_exporter": "python",
   "pygments_lexer": "ipython3",
   "version": "3.8.3"
  },
  "orig_nbformat": 4
 },
 "nbformat": 4,
 "nbformat_minor": 2
}
