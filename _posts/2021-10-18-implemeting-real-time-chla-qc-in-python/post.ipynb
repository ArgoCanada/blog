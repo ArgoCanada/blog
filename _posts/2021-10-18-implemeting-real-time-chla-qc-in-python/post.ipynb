{
 "cells": [
  {
   "cell_type": "markdown",
   "metadata": {},
   "source": [
    "This post is a rough guide to implementing real-time adjustments to CHLA values in Argo NetCDF files. The real-time adjustments are relatively new and reflect a balance between simplicity and completeness, with the understanding that delayed-mode QC will be more robust and incorporate more float-specific considerations. In case it's not clear, nothing in this post should be construed as a definitive QC implementation and should be subject to considerable testing prior to deployment as actual live QC.\n",
    "\n",
    "To implement the tests on existing ArgoNetCDF files in Python, we'll use the [argopandas](https://github.com/ArgoCanada/argopandas) package (to list float profiles and do some basic interaction with Argo NetCDF files) and [gsw](https://teos-10.github.io/GSW-Python/) (to perform seawater calculations required for some of the checks). We'll also use [pandas](https://pandas.pydata.org/) data frames and [numpy](https://numpy.org/) arrays to marshal the generic data handling and [matplotlib](https://matplotlib.org/) to plot as we go along."
   ]
  },
  {
   "cell_type": "code",
   "execution_count": null,
   "metadata": {},
   "outputs": [],
   "source": [
    "# pip install argopandas gsw matplotlib\n",
    "# conda install -c conda-forge argopandas gsw matplotlib\n",
    "import argopandas as argo\n",
    "import gsw\n",
    "import numpy as np\n",
    "import matplotlib.pyplot as plt"
   ]
  },
  {
   "cell_type": "markdown",
   "metadata": {},
   "source": [
    "### Example data\n",
    "\n",
    "We'll need some data to practice with, too. As an example, I'll use all the profiles from float 6904117. It's probably best to use a fresh cache for every Python session (the default), but for the purposes of rendering this post I'll use a local cache to avoid downloading the files everytime I render it."
   ]
  },
  {
   "cell_type": "code",
   "execution_count": null,
   "metadata": {},
   "outputs": [],
   "source": [
    "profiles = argo.prof \\\n",
    "    .subset_float(6904117) \\\n",
    "    .subset_direction('ascending') \n",
    "bgc_profiles = argo.bio_prof \\\n",
    "    .subset_float(6904117) \\\n",
    "    .subset_direction('ascending')"
   ]
  },
  {
   "cell_type": "code",
   "execution_count": null,
   "metadata": {},
   "outputs": [],
   "source": [
    "profiles"
   ]
  },
  {
   "cell_type": "code",
   "execution_count": null,
   "metadata": {},
   "outputs": [],
   "source": [
    "bgc_profiles"
   ]
  },
  {
   "cell_type": "markdown",
   "metadata": {},
   "source": [
    "### The recipe\n",
    "\n",
    "As I understand it, this is what has to happen to the real-time measurements during the CHLA processing:\n",
    "\n",
    "- `CHLA` values whose flags are unset are flagged as `Flag.PROBABLY_BAD`\n",
    "- `CHLA_ADJUSTED` values whose flags are unset are flagged as `Flag.GOOD`\n",
    "- Apply global range test (flag for `CHLA` and `CHLA_ADJUSTED` set to `Flag.BAD` for CHLA values outside the range -0.1 to 100)\n",
    "- Apply the \"dark correction\" to `CHLA` values:\n",
    "    - Read the `SCIENTIFIC_CALIB_COEFFICIENT` variable for the CHLA profile and parse the `FLOAT_DARK`, and `FLOAT_DARK_QC` values. It is likely that `FLOAT_DARK_QC` doesn't exist in any files yet, so default to `Flag.NO_QC`. For profiles that haven't gone through 5 cycles deeper than the \"mixed layer depth\", there should be a `PRELIM_DARK` variable in `SCIENTIFIC_CALIB_COEFFICIENT`\n",
    "    - If `FLOAT_DARK` exists, apply the equation `CHLA_ADJUSTED = ((FLUORESCENCE_CHLA-FLOAT_DARK)*SCALE_CHLA)/2`.\n",
    "    - If it doesn't, calculate try to calculate `PRELIM_DARK` and look for 4 previous instances of `PRELIM_DARK` with which `FLOAT_DARK/_QC` should be calculated. If there are 5 `PRELIM_DARK` values, calculate `FLOAT_DARK/_QC` and use that. If there aren't calculate the adjusted value using `PRELIM_DARK`.\n",
    "- Apply the non-photochemical quenching correction (NPC) to the value calculated by the dark correction. This is the correction for the upper portion of the ocean whereby phytoplankton have a reduced response to UV light because they have already been exposed to it from the sun.\n",
    "\n",
    "A few of these steps have details that need to be expanded upon, so let's do those first"
   ]
  },
  {
   "cell_type": "markdown",
   "metadata": {},
   "source": [
    "### QC Flags\n",
    "\n",
    "In addition to computing adjusted realtime values, the QC checks for CHLA also flag some values using the Argo flag scheme. One of the challeneges in doing this is that you don't want to make a data point look \"better\" by assigning a QC flag (e.g., flag a value as \"probably bad\" when it's already been flagged as \"bad\"). This logic was implemented by the experimental [argortqcpy](https://github.com/euroargodev/argortqcpy) package ([here](https://github.com/euroargodev/argortqcpy/blame/main/argortqcpy/checks.py)) and I've modified it slightly to get all of the flag logic in one happy Python class:"
   ]
  },
  {
   "cell_type": "code",
   "execution_count": null,
   "metadata": {},
   "outputs": [],
   "source": [
    "class Flag:\n",
    "    \"\"\"\n",
    "    Flags for check output. These values are valid values of the\n",
    "    ``qc`` and ``adjusted_qc`` attributes of a\n",
    "    :class:`~medsrtqc.core.Trace` object. Utility functions are\n",
    "    provided as static methods to get the name or value of a flag\n",
    "    or to update flag values ensuring that values that are already\n",
    "    marked at a \"worse\" QC level are not inadvertently changed.\n",
    "    \"\"\"\n",
    "\n",
    "    @staticmethod\n",
    "    def label(flag):\n",
    "        \"\"\"Return the label of a QC flag\"\"\"\n",
    "        return Flag._names[flag]\n",
    "\n",
    "    @staticmethod\n",
    "    def value(label):\n",
    "        \"\"\"Return the value of a QC flag\"\"\"\n",
    "        for value, lab in Flag._names.items():\n",
    "            if label == lab:\n",
    "                return value\n",
    "        raise KeyError(f\"'{label}' is not the name of a QC flag\")\n",
    "\n",
    "    @staticmethod\n",
    "    def update_safely(qc, to, where=None):\n",
    "        \"\"\"\n",
    "        Safely update ``qc`` to the value ``to``. Values that are\n",
    "        already marked at a \"worse\" QC level are not modified.\n",
    "        \"\"\"\n",
    "        where = slice(None) if where is None else where\n",
    "        flags = qc[where]\n",
    "        for overridable_flag in Flag._precedence[to]:\n",
    "            flags[flags == overridable_flag] = to\n",
    "        qc[where] = flags\n",
    "\n",
    "    NO_QC = b'0'\n",
    "    GOOD = b'1'\n",
    "    PROBABLY_GOOD = b'2'\n",
    "    PROBABLY_BAD = b'3'\n",
    "    BAD = b'4'\n",
    "    CHANGED = b'5'\n",
    "    # '6' not used\n",
    "    # '7' not used\n",
    "    ESTIMATED = b'8'\n",
    "    MISSING = b'9'\n",
    "    FILL_VALUE = b''\n",
    "\n",
    "    _names = {\n",
    "        NO_QC: 'NO_QC',\n",
    "        GOOD: 'GOOD',\n",
    "        PROBABLY_GOOD: 'PROBABLY_GOOD',\n",
    "        PROBABLY_BAD: 'PROBABLY_BAD',\n",
    "        BAD: 'BAD',\n",
    "        CHANGED: 'CHANGED',\n",
    "        ESTIMATED: 'ESTIMATED',\n",
    "        MISSING: 'MISSING',\n",
    "        FILL_VALUE: 'FILL_VALUE'\n",
    "    }\n",
    "\n",
    "    _precedence = {\n",
    "        NO_QC: set(),\n",
    "        GOOD: {\n",
    "            NO_QC,\n",
    "        },\n",
    "        PROBABLY_GOOD: {\n",
    "            NO_QC,\n",
    "            GOOD,\n",
    "            CHANGED,\n",
    "        },\n",
    "        PROBABLY_BAD: {\n",
    "            NO_QC,\n",
    "            GOOD,\n",
    "            PROBABLY_GOOD,\n",
    "            CHANGED,\n",
    "        },\n",
    "        BAD: {\n",
    "            NO_QC,\n",
    "            GOOD,\n",
    "            PROBABLY_GOOD,\n",
    "            CHANGED,\n",
    "            PROBABLY_BAD,\n",
    "        },\n",
    "        CHANGED: {\n",
    "            NO_QC,\n",
    "        },\n",
    "        ESTIMATED: {\n",
    "            NO_QC,\n",
    "            GOOD,\n",
    "            PROBABLY_GOOD,\n",
    "        },\n",
    "        MISSING: {\n",
    "            NO_QC,\n",
    "        },\n",
    "    }"
   ]
  },
  {
   "cell_type": "markdown",
   "metadata": {},
   "source": [
    "### Parsing SCIENTIFIC_CALIB_COEFFICIENT\n",
    "\n",
    "This variable in the NetCDF files looks like this:\n",
    "\n",
    "```\n",
    "DARK_CHLA = 47, SCALE_CHLA = 0.0073\n",
    "```\n",
    "\n",
    "and is in string form. It can be parsed by splitting a few times to return a `dict()` and reconstituted by pasting together a few times."
   ]
  },
  {
   "cell_type": "code",
   "execution_count": null,
   "metadata": {},
   "outputs": [],
   "source": [
    "def parse_scientific_calib_coefficient(val):\n",
    "    parts = val.split(',')\n",
    "    vals =  [part.split('=') for part in parts]\n",
    "    return {k.strip(): float(v.strip()) for k, v in vals}\n",
    "\n",
    "def unparse_calib_coefficient(coefs):\n",
    "    return ', '.join(f'{k} = {v}' for k, v in coefs.items())\n",
    "\n",
    "coefs = parse_scientific_calib_coefficient('DARK_CHLA = 47, SCALE_CHLA = 0.0073')\n",
    "print(coefs)\n",
    "coefs['SOMETHING_ELSE'] = 1.23\n",
    "unparse_calib_coefficient(coefs)"
   ]
  },
  {
   "cell_type": "markdown",
   "metadata": {},
   "source": [
    "### The mixed layer depth\n",
    "\n",
    "As I understand it, there are as many ways to calculate the mixed layer depth as there are oceanographers. The following is an implementation based on the guidance provided in the draft CHLA QC document. I'm using `plt` as an argument here so that you can debug this stuff interactively (but skip installing matplotlib in production). The gist is that it looks for density changes > 0.03 below 10 dbar."
   ]
  },
  {
   "cell_type": "code",
   "execution_count": null,
   "metadata": {},
   "outputs": [],
   "source": [
    "import gsw\n",
    "\n",
    "def calc_mixed_layer_depth(pres, temp, psal, longitude=0, latitude=0, plt=None):\n",
    "    abs_salinity = gsw.SA_from_SP(psal.value, pres.value, longitude, latitude)\n",
    "    conservative_temp = gsw.CT_from_t(abs_salinity, temp.value, pres.value)\n",
    "    density = gsw.sigma0(abs_salinity, conservative_temp)\n",
    "\n",
    "    if plt:\n",
    "        plt.plot(density, pres.value)\n",
    "        plt.gca().invert_yaxis()\n",
    "        plt.gca().set_xlabel('sigma0')\n",
    "\n",
    "    mixed_layer_start = (np.diff(density) > 0.03) & (pres.value[:-1] > 10)\n",
    "    if not np.any(mixed_layer_start):\n",
    "        # Can't determine mixed layer depth (no density changes > 0.03 below 10 dbar)\n",
    "        return None\n",
    "\n",
    "    mixed_layer_start_index = np.where(mixed_layer_start)[0][0]\n",
    "    mixed_layer_depth = pres.value[mixed_layer_start_index]\n",
    "\n",
    "    if plt:\n",
    "        plt.gca().axhline(y = mixed_layer_depth, linestyle='--')\n",
    "\n",
    "    return mixed_layer_depth"
   ]
  },
  {
   "cell_type": "markdown",
   "metadata": {},
   "source": [
    "### Calculating FLOAT_DARK\n",
    "\n",
    "The guidance on calculating `PRELIM_DARK` is that it's the minimum `CHLA` value below the mixed layer depth boundary. In Python:"
   ]
  },
  {
   "cell_type": "code",
   "execution_count": null,
   "metadata": {},
   "outputs": [],
   "source": [
    "def calc_prelim_dark(pres, chla, mixed_layer_depth):\n",
    "    chla_filter = chla[pres > mixed_layer_depth]\n",
    "    if len(chla_filter) > 0:\n",
    "        return chla_filter.min()\n",
    "    else:\n",
    "        return None"
   ]
  },
  {
   "cell_type": "markdown",
   "metadata": {},
   "source": [
    "Calculating `FLOAT_DARK` is a little more involved and it's where we'll make use of our float/cycle index that we created earlier. We need to start from the first NetCDF file for the float and collect any `PRELIM_DARK` values from `SCIENTIFIC_CALIB_COEFFICIENT` that might have been calculated. If there were 3 or fewer, we do nothing. If there are exactly 4, we add our `PRELIM_DARK` that we just calculated, calculate the mean of the values, and use that. The `FLOAT_DARK_QC` gets added based on the standard deviation of the `PRELIM_DARK` values."
   ]
  },
  {
   "cell_type": "code",
   "execution_count": null,
   "metadata": {},
   "outputs": [],
   "source": [
    "def calc_float_dark(bio_prof_files):\n",
    "    prelim_dark = []\n",
    "    for nc in argo.nc(bio_prof_files):\n",
    "        coefs_df = nc.calib[nc.calib.PARAMETER.str.strip() == 'CHLA'] \\\n",
    "            .filter(['SCIENTIFIC_CALIB_COEFFICIENT'])\n",
    "        if len(coefs_df) == 0 or 'SCIENTIFIC_CALIB_COEFFICIENT' not in coefs_df:\n",
    "            continue\n",
    "\n",
    "        coefs = parse_scientific_calib_coefficient(coefs_df.iloc[0][0])\n",
    "        if 'PRELIM_DARK' not in coefs:\n",
    "            continue\n",
    "            \n",
    "        prelim_dark.append(coefs['PRELIM_DARK'])\n",
    "    \n",
    "    return np.array(prelim_dark)\n",
    "\n",
    "calc_float_dark(['dac/' + f for f in bgc_profiles.head(10).file])"
   ]
  },
  {
   "cell_type": "markdown",
   "metadata": {},
   "source": [
    "An empty result here is expected since the scheme was just invented. However, `FLOAT_DARK` *does* exist everywhere, so we can just use that for these calculations."
   ]
  },
  {
   "cell_type": "markdown",
   "metadata": {},
   "source": [
    "### The whole game\n",
    "\n",
    "The rest is not very oceanographic but does involve navigating the structure of BGC variables' encoding in Argo profile NetCDFs. First, we get a `NetCDFWrapper` handle and a local filename to the .nc file. In argopandas, a `NetCDFWrapper` is a thin wrapper around a `netCDF4.Dataset` that implements a few common accessors in addition to the most common accessors for the dataset (notably, `obj.variables` and `obj['variable name']`)."
   ]
  },
  {
   "cell_type": "code",
   "execution_count": 127,
   "metadata": {},
   "outputs": [
    {
     "data": {
      "image/png": "[encoded data removed]",
      "text/plain": [
       "<Figure size 432x288 with 1 Axes>"
      ]
     },
     "metadata": {
      "needs_background": "light"
     },
     "output_type": "display_data"
    }
   ],
   "source": [
    "nc_filename = argo.filename('dac/coriolis/6904117/profiles/BR6904117_171.nc')\n",
    "nc = argo.nc(nc_filename)\n",
    "\n",
    "# make sure we've got a CHLA variable\n",
    "if 'CHLA' not in nc.variables or 'PRES' not in nc.variables:\n",
    "    raise KeyError(f\"'CHLA' or 'PRES' not found in '{nc_filename}'\")\n",
    "\n",
    "# find the profile index associated with CHLA\n",
    "chla_prof_i = nc.param[nc.param.STATION_PARAMETERS.str.strip() == 'CHLA'] \\\n",
    "    .reset_index() \\\n",
    "    .iloc[0] \\\n",
    "    .N_PROF\n",
    "\n",
    "# get the PRES/CHLA/CHLA_QC series we'll work with\n",
    "# (note that there will be trailing NaN values here\n",
    "# but we want to keep those because we'll have to keep the\n",
    "# size the same to reassign values to a copy later)\n",
    "pres = nc['PRES'][:][chla_prof_i]\n",
    "chla = nc['CHLA'][:][chla_prof_i]\n",
    "chla_qc = nc['CHLA_QC'][:][chla_prof_i]\n",
    "\n",
    "# create the chla_adjusted and chla_qc variables from originals\n",
    "chla_adjusted = chla.copy()\n",
    "chla_adjusted_qc = chla_qc.copy()\n",
    "\n",
    "# reset chla_qc to Flag.NO_QC\n",
    "chla_qc[:] = Flag.NO_QC\n",
    "\n",
    "# plot to verify!\n",
    "plt.plot(chla, pres)\n",
    "plt.gca().invert_yaxis()"
   ]
  },
  {
   "cell_type": "markdown",
   "metadata": {},
   "source": [
    "The first step is to set the initial QC values to `Flag.PROBABLY_BAD`."
   ]
  },
  {
   "cell_type": "code",
   "execution_count": 128,
   "metadata": {},
   "outputs": [],
   "source": [
    "chla_qc[:] = Flag.PROBABLY_BAD\n",
    "chla_adjusted_qc = Flag.GOOD"
   ]
  },
  {
   "cell_type": "markdown",
   "metadata": {},
   "source": [
    "Then we apply the global range test:"
   ]
  },
  {
   "cell_type": "code",
   "execution_count": 129,
   "metadata": {},
   "outputs": [],
   "source": [
    "chla_qc = Flag.update_safely(chla_qc, Flag.BAD, where=(chla < 0.1) | (chla > 100))"
   ]
  },
  {
   "cell_type": "code",
   "execution_count": 126,
   "metadata": {},
   "outputs": [
    {
     "data": {
      "text/html": [
       "<div>\n",
       "<style scoped>\n",
       "    .dataframe tbody tr th:only-of-type {\n",
       "        vertical-align: middle;\n",
       "    }\n",
       "\n",
       "    .dataframe tbody tr th {\n",
       "        vertical-align: top;\n",
       "    }\n",
       "\n",
       "    .dataframe thead th {\n",
       "        text-align: right;\n",
       "    }\n",
       "</style>\n",
       "<table border=\"1\" class=\"dataframe\">\n",
       "  <thead>\n",
       "    <tr style=\"text-align: right;\">\n",
       "      <th></th>\n",
       "      <th></th>\n",
       "      <th>STATION_PARAMETERS</th>\n",
       "      <th>PARAMETER_DATA_MODE</th>\n",
       "    </tr>\n",
       "    <tr>\n",
       "      <th>N_PROF</th>\n",
       "      <th>N_PARAM</th>\n",
       "      <th></th>\n",
       "      <th></th>\n",
       "    </tr>\n",
       "  </thead>\n",
       "  <tbody>\n",
       "    <tr>\n",
       "      <th>4</th>\n",
       "      <th>5</th>\n",
       "      <td>CHLA                                          ...</td>\n",
       "      <td>b'A'</td>\n",
       "    </tr>\n",
       "  </tbody>\n",
       "</table>\n",
       "</div>"
      ],
      "text/plain": [
       "                                               STATION_PARAMETERS  \\\n",
       "N_PROF N_PARAM                                                      \n",
       "4      5        CHLA                                          ...   \n",
       "\n",
       "               PARAMETER_DATA_MODE  \n",
       "N_PROF N_PARAM                      \n",
       "4      5                      b'A'  "
      ]
     },
     "execution_count": 126,
     "metadata": {},
     "output_type": "execute_result"
    }
   ],
   "source": [
    "nc = argo.nc('profiles/BR6904117_171.nc')\n",
    "nc.levels[~np.isnan(nc.levels.CHLA)]\n",
    "nc.param[nc.param.STATION_PARAMETERS.str.strip() == 'CHLA']"
   ]
  },
  {
   "cell_type": "code",
   "execution_count": null,
   "metadata": {},
   "outputs": [],
   "source": [
    "eqn = nc.calib[nc.calib.PARAMETER.str.strip() == 'CHLA'] \\\n",
    "    .filter(['PARAMTER', 'SCIENTIFIC_CALIB_EQUATION', 'SCIENTIFIC_CALIB_COEFFICIENT'])\n",
    "eqn.iloc[0][1]"
   ]
  },
  {
   "cell_type": "code",
   "execution_count": null,
   "metadata": {},
   "outputs": [],
   "source": [
    "nc.calib"
   ]
  },
  {
   "cell_type": "markdown",
   "metadata": {},
   "source": [
    "### Tests\n",
    "\n",
    "In the course of writing all of this I also wrote some unit tests and it's worth putting them here so they don't get lost!"
   ]
  },
  {
   "cell_type": "code",
   "execution_count": null,
   "metadata": {},
   "outputs": [],
   "source": [
    "import unittest\n",
    "\n",
    "class TestFlag(unittest.TestCase):\n",
    "\n",
    "    def test_value(self):\n",
    "        self.assertEqual(Flag.NO_QC, Flag.value('NO_QC'))\n",
    "        self.assertEqual(Flag.label(Flag.NO_QC), 'NO_QC')\n",
    "        with self.assertRaises(KeyError):\n",
    "            Flag.value('not a QC key')\n",
    "        with self.assertRaises(KeyError):\n",
    "            Flag.label(b'def not a flag')\n",
    "\n",
    "    def test_update(self):\n",
    "        qc = np.array([Flag.GOOD, Flag.PROBABLY_BAD, Flag.MISSING])\n",
    "        Flag.update_safely(qc, to=Flag.BAD)\n",
    "        self.assertTrue(np.all(qc == np.array([Flag.BAD, Flag.BAD, Flag.MISSING])))\n",
    "\n",
    "        qc = np.array([Flag.GOOD, Flag.PROBABLY_BAD, Flag.MISSING])\n",
    "        Flag.update_safely(qc, to=Flag.BAD, where=np.array([False, True, False]))\n",
    "        self.assertTrue(np.all(qc == np.array([Flag.GOOD, Flag.BAD, Flag.MISSING])))\n"
   ]
  }
 ],
 "metadata": {
  "interpreter": {
   "hash": "2db524e06e9f5f4ffedc911c917cb75e12dbc923643829bf417064a77eb14d37"
  },
  "kernelspec": {
   "display_name": "Python 3.8.3 64-bit",
   "name": "python3"
  },
  "language_info": {
   "codemirror_mode": {
    "name": "ipython",
    "version": 3
   },
   "file_extension": ".py",
   "mimetype": "text/x-python",
   "name": "python",
   "nbconvert_exporter": "python",
   "pygments_lexer": "ipython3",
   "version": "3.8.3"
  },
  "orig_nbformat": 4
 },
 "nbformat": 4,
 "nbformat_minor": 2
}
